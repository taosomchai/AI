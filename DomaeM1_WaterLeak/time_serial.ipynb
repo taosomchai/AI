{
 "cells": [
  {
   "cell_type": "markdown",
   "metadata": {},
   "source": [
    "# Water leak use Time Series Prediction with LSTM Recurrent"
   ]
  },
  {
   "cell_type": "code",
   "execution_count": 46,
   "metadata": {},
   "outputs": [],
   "source": [
    "#import pandas\n",
    "#import matplotlib.pyplot as plt\n",
    "#dataset = pandas.read_csv('Insight Data 20200128_132638_data_train.csv', usecols=[1], engine='python')\n",
    "import numpy as np\n",
    "import pandas as pd\n",
    "from matplotlib import pyplot"
   ]
  },
  {
   "cell_type": "code",
   "execution_count": 47,
   "metadata": {},
   "outputs": [
    {
     "data": {
      "text/html": [
       "<div>\n",
       "<style scoped>\n",
       "    .dataframe tbody tr th:only-of-type {\n",
       "        vertical-align: middle;\n",
       "    }\n",
       "\n",
       "    .dataframe tbody tr th {\n",
       "        vertical-align: top;\n",
       "    }\n",
       "\n",
       "    .dataframe thead th {\n",
       "        text-align: right;\n",
       "    }\n",
       "</style>\n",
       "<table border=\"1\" class=\"dataframe\">\n",
       "  <thead>\n",
       "    <tr style=\"text-align: right;\">\n",
       "      <th></th>\n",
       "      <th>Source</th>\n",
       "      <th>TagName</th>\n",
       "      <th>DateTime</th>\n",
       "      <th>State</th>\n",
       "      <th>Value</th>\n",
       "      <th>Unit</th>\n",
       "      <th>Quality</th>\n",
       "      <th>QualityStatus</th>\n",
       "    </tr>\n",
       "  </thead>\n",
       "  <tbody>\n",
       "    <tr>\n",
       "      <th>0</th>\n",
       "      <td>STL Domae4 M1 Laser Humidity</td>\n",
       "      <td>STL Domae4 M1 Laser1 Humidity</td>\n",
       "      <td>08:50.0</td>\n",
       "      <td>NaN</td>\n",
       "      <td>60.660529</td>\n",
       "      <td>%</td>\n",
       "      <td>192</td>\n",
       "      <td>0</td>\n",
       "    </tr>\n",
       "    <tr>\n",
       "      <th>1</th>\n",
       "      <td>STL Domae4 M1 Laser Humidity</td>\n",
       "      <td>STL Domae4 M1 Laser1 Humidity</td>\n",
       "      <td>24:43.9</td>\n",
       "      <td>NaN</td>\n",
       "      <td>60.580000</td>\n",
       "      <td>%</td>\n",
       "      <td>192</td>\n",
       "      <td>0</td>\n",
       "    </tr>\n",
       "    <tr>\n",
       "      <th>2</th>\n",
       "      <td>STL Domae4 M1 Laser Humidity</td>\n",
       "      <td>STL Domae4 M1 Laser1 Humidity</td>\n",
       "      <td>36:44.4</td>\n",
       "      <td>NaN</td>\n",
       "      <td>60.930000</td>\n",
       "      <td>%</td>\n",
       "      <td>192</td>\n",
       "      <td>0</td>\n",
       "    </tr>\n",
       "    <tr>\n",
       "      <th>3</th>\n",
       "      <td>STL Domae4 M1 Laser Humidity</td>\n",
       "      <td>STL Domae4 M1 Laser1 Humidity</td>\n",
       "      <td>44:44.4</td>\n",
       "      <td>NaN</td>\n",
       "      <td>60.970000</td>\n",
       "      <td>%</td>\n",
       "      <td>192</td>\n",
       "      <td>0</td>\n",
       "    </tr>\n",
       "    <tr>\n",
       "      <th>4</th>\n",
       "      <td>STL Domae4 M1 Laser Humidity</td>\n",
       "      <td>STL Domae4 M1 Laser1 Humidity</td>\n",
       "      <td>16:44.6</td>\n",
       "      <td>NaN</td>\n",
       "      <td>61.070000</td>\n",
       "      <td>%</td>\n",
       "      <td>192</td>\n",
       "      <td>0</td>\n",
       "    </tr>\n",
       "  </tbody>\n",
       "</table>\n",
       "</div>"
      ],
      "text/plain": [
       "                         Source                        TagName DateTime  \\\n",
       "0  STL Domae4 M1 Laser Humidity  STL Domae4 M1 Laser1 Humidity  08:50.0   \n",
       "1  STL Domae4 M1 Laser Humidity  STL Domae4 M1 Laser1 Humidity  24:43.9   \n",
       "2  STL Domae4 M1 Laser Humidity  STL Domae4 M1 Laser1 Humidity  36:44.4   \n",
       "3  STL Domae4 M1 Laser Humidity  STL Domae4 M1 Laser1 Humidity  44:44.4   \n",
       "4  STL Domae4 M1 Laser Humidity  STL Domae4 M1 Laser1 Humidity  16:44.6   \n",
       "\n",
       "   State      Value Unit  Quality  QualityStatus  \n",
       "0    NaN  60.660529    %      192              0  \n",
       "1    NaN  60.580000    %      192              0  \n",
       "2    NaN  60.930000    %      192              0  \n",
       "3    NaN  60.970000    %      192              0  \n",
       "4    NaN  61.070000    %      192              0  "
      ]
     },
     "execution_count": 47,
     "metadata": {},
     "output_type": "execute_result"
    }
   ],
   "source": [
    "train_df = pd.read_csv('Insight Data 20200128_132638_data_train.csv')\n",
    "train_df.head()"
   ]
  },
  {
   "cell_type": "code",
   "execution_count": 48,
   "metadata": {},
   "outputs": [
    {
     "data": {
      "text/plain": [
       "0    60.660529\n",
       "1    60.580000\n",
       "2    60.930000\n",
       "3    60.970000\n",
       "4    61.070000\n",
       "Name: Value, dtype: float64"
      ]
     },
     "execution_count": 48,
     "metadata": {},
     "output_type": "execute_result"
    }
   ],
   "source": [
    "# for convenience, identify the sensor and operational setting columns\n",
    "RH_df = train_df[(\"Value\")]\n",
    "RH_df.head()\n",
    "#setting_columns = [col for col in train_df.columns if col.startswith(\"QualityStatus\")]"
   ]
  },
  {
   "cell_type": "code",
   "execution_count": 49,
   "metadata": {},
   "outputs": [
    {
     "data": {
      "text/plain": [
       "count    691.000000\n",
       "mean      59.548756\n",
       "std        8.918035\n",
       "min       33.960000\n",
       "25%       59.990000\n",
       "50%       62.090000\n",
       "75%       64.160000\n",
       "max       96.600000\n",
       "Name: Value, dtype: float64"
      ]
     },
     "execution_count": 49,
     "metadata": {},
     "output_type": "execute_result"
    }
   ],
   "source": [
    "RH_df.describe()\n",
    "#RH_df.shape[0]"
   ]
  },
  {
   "cell_type": "markdown",
   "metadata": {},
   "source": [
    "#format datetime field which comes in as string\n",
    "#train_df['DateTime'] = pd.to_datetime(train_df['DateTime'], format=\"%Y-%m-%d %H:%M:%S\")\n",
    "\n",
    "print(\"Total number of train_df records: %d\" % len(train_df.index))\n",
    "#print(train_df.head())\n",
    "train_df.describe()"
   ]
  },
  {
   "cell_type": "code",
   "execution_count": 50,
   "metadata": {},
   "outputs": [
    {
     "data": {
      "image/png": "[encoded data removed]",
      "text/plain": [
       "<Figure size 432x288 with 1 Axes>"
      ]
     },
     "metadata": {
      "needs_background": "light"
     },
     "output_type": "display_data"
    }
   ],
   "source": [
    "import matplotlib.pyplot as plt\n",
    "# 60 sec\n",
    "rate = 60\n",
    "N = RH_df.shape[0]\n",
    "L = N / rate\n",
    "\n",
    "f, ax = plt.subplots()\n",
    "ax.plot(np.arange(N) / rate, RH_df)\n",
    "ax.set_xlabel('Time [s]')\n",
    "ax.set_ylabel('Amplitude [%RH]');"
   ]
  },
  {
   "cell_type": "code",
   "execution_count": 52,
   "metadata": {},
   "outputs": [
    {
     "ename": "NameError",
     "evalue": "name 'scipy' is not defined",
     "output_type": "error",
     "traceback": [
      "\u001b[1;31m---------------------------------------------------------------------------\u001b[0m",
      "\u001b[1;31mNameError\u001b[0m                                 Traceback (most recent call last)",
      "\u001b[1;32m<ipython-input-52-345cf7cb6492>\u001b[0m in \u001b[0;36m<module>\u001b[1;34m\u001b[0m\n\u001b[0;32m     17\u001b[0m \u001b[0mT\u001b[0m\u001b[1;33m=\u001b[0m\u001b[1;36m1.0\u001b[0m\u001b[1;33m/\u001b[0m\u001b[0mN\u001b[0m\u001b[1;33m\u001b[0m\u001b[1;33m\u001b[0m\u001b[0m\n\u001b[0;32m     18\u001b[0m \u001b[1;33m\u001b[0m\u001b[0m\n\u001b[1;32m---> 19\u001b[1;33m \u001b[0mY\u001b[0m \u001b[1;33m=\u001b[0m \u001b[0mscipy\u001b[0m\u001b[1;33m.\u001b[0m\u001b[0mfftpack\u001b[0m\u001b[1;33m.\u001b[0m\u001b[0mfft\u001b[0m\u001b[1;33m(\u001b[0m\u001b[0mRH_df\u001b[0m\u001b[1;33m)\u001b[0m\u001b[1;33m\u001b[0m\u001b[1;33m\u001b[0m\u001b[0m\n\u001b[0m\u001b[0;32m     20\u001b[0m \u001b[0mP2\u001b[0m \u001b[1;33m=\u001b[0m \u001b[0mnp\u001b[0m\u001b[1;33m.\u001b[0m\u001b[0mabs\u001b[0m\u001b[1;33m(\u001b[0m\u001b[0mY\u001b[0m \u001b[1;33m/\u001b[0m \u001b[0mN\u001b[0m\u001b[1;33m)\u001b[0m\u001b[1;33m\u001b[0m\u001b[1;33m\u001b[0m\u001b[0m\n\u001b[0;32m     21\u001b[0m \u001b[0mP1\u001b[0m \u001b[1;33m=\u001b[0m \u001b[0mP2\u001b[0m\u001b[1;33m[\u001b[0m\u001b[1;36m0\u001b[0m \u001b[1;33m:\u001b[0m \u001b[0mN\u001b[0m \u001b[1;33m//\u001b[0m \u001b[1;36m2\u001b[0m \u001b[1;33m+\u001b[0m \u001b[1;36m1\u001b[0m\u001b[1;33m]\u001b[0m\u001b[1;33m\u001b[0m\u001b[1;33m\u001b[0m\u001b[0m\n",
      "\u001b[1;31mNameError\u001b[0m: name 'scipy' is not defined"
     ]
    }
   ],
   "source": [
    "#Let us now examine our sinusoid through application of the DFT:\n",
    "#from scipy import fftpack\n",
    "#\n",
    "#f_s = 1 / rate\n",
    "#X = fftpack.fft(RH_df)\n",
    "#freqs = fftpack.fftfreq(len(RH_df)) * f_s\n",
    "#\n",
    "#fig, ax = plt.subplots()\n",
    "#\n",
    "#ax.stem(freqs, np.abs(X))\n",
    "#ax.set_xlabel('Frequency in Hertz [Hz]')\n",
    "#ax.set_ylabel('Frequency Domain (Spectrum) Magnitude')\n",
    "#ax.set_xlim(-f_s / 2, f_s / 2)\n",
    "#ax.set_ylim(-5, 110)\n",
    "\n",
    "\n",
    "T=1.0/N\n",
    "\n",
    "Y = scipy.fftpack.fft(RH_df)\n",
    "P2 = np.abs(Y / N)\n",
    "P1 = P2[0 : N // 2 + 1]\n",
    "P1[1 : -2] = 2 * P1[1 : -2]\n",
    "\n",
    "plt.ylabel(\"Y\")\n",
    "plt.xlabel(\"f\")\n",
    "plt.plot(f, P1)"
   ]
  },
  {
   "cell_type": "code",
   "execution_count": 60,
   "metadata": {},
   "outputs": [
    {
     "name": "stdout",
     "output_type": "stream",
     "text": [
      "                                Source                        TagName  State  \\\n",
      "DateTime                                                                       \n",
      "08:50.0   STL Domae4 M1 Laser Humidity  STL Domae4 M1 Laser1 Humidity    NaN   \n",
      "24:43.9   STL Domae4 M1 Laser Humidity  STL Domae4 M1 Laser1 Humidity    NaN   \n",
      "36:44.4   STL Domae4 M1 Laser Humidity  STL Domae4 M1 Laser1 Humidity    NaN   \n",
      "44:44.4   STL Domae4 M1 Laser Humidity  STL Domae4 M1 Laser1 Humidity    NaN   \n",
      "16:44.6   STL Domae4 M1 Laser Humidity  STL Domae4 M1 Laser1 Humidity    NaN   \n",
      "\n",
      "              Value Unit  Quality  QualityStatus  \n",
      "DateTime                                          \n",
      "08:50.0   60.660529    %      192              0  \n",
      "24:43.9   60.580000    %      192              0  \n",
      "36:44.4   60.930000    %      192              0  \n",
      "44:44.4   60.970000    %      192              0  \n",
      "16:44.6   61.070000    %      192              0  \n"
     ]
    },
    {
     "data": {
      "text/plain": [
       "<Figure size 864x288 with 0 Axes>"
      ]
     },
     "metadata": {},
     "output_type": "display_data"
    },
    {
     "data": {
      "image/png": "[encoded data removed]",
      "text/plain": [
       "<Figure size 432x288 with 1 Axes>"
      ]
     },
     "metadata": {
      "needs_background": "light"
     },
     "output_type": "display_data"
    },
    {
     "ename": "ValueError",
     "evalue": "could not convert string to float: 'STL Domae4 M1 Laser Humidity'",
     "output_type": "error",
     "traceback": [
      "\u001b[1;31m---------------------------------------------------------------------------\u001b[0m",
      "\u001b[1;31mValueError\u001b[0m                                Traceback (most recent call last)",
      "\u001b[1;32m<ipython-input-60-41e010c26566>\u001b[0m in \u001b[0;36m<module>\u001b[1;34m\u001b[0m\n\u001b[0;32m     25\u001b[0m \u001b[0my\u001b[0m \u001b[1;33m=\u001b[0m \u001b[0mdf\u001b[0m\u001b[1;33m\u001b[0m\u001b[1;33m\u001b[0m\u001b[0m\n\u001b[0;32m     26\u001b[0m \u001b[1;31m#perform FFT on signal\u001b[0m\u001b[1;33m\u001b[0m\u001b[1;33m\u001b[0m\u001b[1;33m\u001b[0m\u001b[0m\n\u001b[1;32m---> 27\u001b[1;33m \u001b[0myf\u001b[0m \u001b[1;33m=\u001b[0m \u001b[0mfft\u001b[0m\u001b[1;33m(\u001b[0m\u001b[0my\u001b[0m\u001b[1;33m)\u001b[0m\u001b[1;33m\u001b[0m\u001b[1;33m\u001b[0m\u001b[0m\n\u001b[0m\u001b[0;32m     28\u001b[0m \u001b[1;31m#create new x-axis: frequency from signal\u001b[0m\u001b[1;33m\u001b[0m\u001b[1;33m\u001b[0m\u001b[1;33m\u001b[0m\u001b[0m\n\u001b[0;32m     29\u001b[0m \u001b[0mxf\u001b[0m \u001b[1;33m=\u001b[0m \u001b[0mnp\u001b[0m\u001b[1;33m.\u001b[0m\u001b[0mlinspace\u001b[0m\u001b[1;33m(\u001b[0m\u001b[1;36m0.0\u001b[0m\u001b[1;33m,\u001b[0m \u001b[1;36m1.0\u001b[0m\u001b[1;33m/\u001b[0m\u001b[1;33m(\u001b[0m\u001b[1;36m2.0\u001b[0m\u001b[1;33m*\u001b[0m\u001b[0mT\u001b[0m\u001b[1;33m)\u001b[0m\u001b[1;33m,\u001b[0m \u001b[0mN\u001b[0m\u001b[1;33m//\u001b[0m\u001b[1;36m2\u001b[0m\u001b[1;33m)\u001b[0m\u001b[1;33m\u001b[0m\u001b[1;33m\u001b[0m\u001b[0m\n",
      "\u001b[1;32m~\\Anaconda3\\lib\\site-packages\\scipy\\fftpack\\basic.py\u001b[0m in \u001b[0;36mfft\u001b[1;34m(x, n, axis, overwrite_x)\u001b[0m\n\u001b[0;32m     87\u001b[0m \u001b[1;33m\u001b[0m\u001b[0m\n\u001b[0;32m     88\u001b[0m     \"\"\"\n\u001b[1;32m---> 89\u001b[1;33m     \u001b[1;32mreturn\u001b[0m \u001b[0m_pocketfft\u001b[0m\u001b[1;33m.\u001b[0m\u001b[0mfft\u001b[0m\u001b[1;33m(\u001b[0m\u001b[0mx\u001b[0m\u001b[1;33m,\u001b[0m \u001b[0mn\u001b[0m\u001b[1;33m,\u001b[0m \u001b[0maxis\u001b[0m\u001b[1;33m,\u001b[0m \u001b[1;32mNone\u001b[0m\u001b[1;33m,\u001b[0m \u001b[0moverwrite_x\u001b[0m\u001b[1;33m)\u001b[0m\u001b[1;33m\u001b[0m\u001b[1;33m\u001b[0m\u001b[0m\n\u001b[0m\u001b[0;32m     90\u001b[0m \u001b[1;33m\u001b[0m\u001b[0m\n\u001b[0;32m     91\u001b[0m \u001b[1;33m\u001b[0m\u001b[0m\n",
      "\u001b[1;32m~\\Anaconda3\\lib\\site-packages\\scipy\\fft\\_pocketfft\\basic.py\u001b[0m in \u001b[0;36mc2c\u001b[1;34m(forward, x, n, axis, norm, overwrite_x, workers)\u001b[0m\n\u001b[0;32m     14\u001b[0m         workers=None):\n\u001b[0;32m     15\u001b[0m     \u001b[1;34m\"\"\" Return discrete Fourier transform of real or complex sequence. \"\"\"\u001b[0m\u001b[1;33m\u001b[0m\u001b[1;33m\u001b[0m\u001b[0m\n\u001b[1;32m---> 16\u001b[1;33m     \u001b[0mtmp\u001b[0m \u001b[1;33m=\u001b[0m \u001b[0m_asfarray\u001b[0m\u001b[1;33m(\u001b[0m\u001b[0mx\u001b[0m\u001b[1;33m)\u001b[0m\u001b[1;33m\u001b[0m\u001b[1;33m\u001b[0m\u001b[0m\n\u001b[0m\u001b[0;32m     17\u001b[0m     \u001b[0moverwrite_x\u001b[0m \u001b[1;33m=\u001b[0m \u001b[0moverwrite_x\u001b[0m \u001b[1;32mor\u001b[0m \u001b[0m_datacopied\u001b[0m\u001b[1;33m(\u001b[0m\u001b[0mtmp\u001b[0m\u001b[1;33m,\u001b[0m \u001b[0mx\u001b[0m\u001b[1;33m)\u001b[0m\u001b[1;33m\u001b[0m\u001b[1;33m\u001b[0m\u001b[0m\n\u001b[0;32m     18\u001b[0m     \u001b[0mnorm\u001b[0m \u001b[1;33m=\u001b[0m \u001b[0m_normalization\u001b[0m\u001b[1;33m(\u001b[0m\u001b[0mnorm\u001b[0m\u001b[1;33m,\u001b[0m \u001b[0mforward\u001b[0m\u001b[1;33m)\u001b[0m\u001b[1;33m\u001b[0m\u001b[1;33m\u001b[0m\u001b[0m\n",
      "\u001b[1;32m~\\Anaconda3\\lib\\site-packages\\scipy\\fft\\_pocketfft\\helper.py\u001b[0m in \u001b[0;36m_asfarray\u001b[1;34m(x)\u001b[0m\n\u001b[0;32m     90\u001b[0m         \u001b[1;32mreturn\u001b[0m \u001b[0mnp\u001b[0m\u001b[1;33m.\u001b[0m\u001b[0masarray\u001b[0m\u001b[1;33m(\u001b[0m\u001b[0mx\u001b[0m\u001b[1;33m,\u001b[0m \u001b[0mnp\u001b[0m\u001b[1;33m.\u001b[0m\u001b[0mfloat32\u001b[0m\u001b[1;33m)\u001b[0m\u001b[1;33m\u001b[0m\u001b[1;33m\u001b[0m\u001b[0m\n\u001b[0;32m     91\u001b[0m     \u001b[1;32melif\u001b[0m \u001b[0mx\u001b[0m\u001b[1;33m.\u001b[0m\u001b[0mdtype\u001b[0m\u001b[1;33m.\u001b[0m\u001b[0mkind\u001b[0m \u001b[1;32mnot\u001b[0m \u001b[1;32min\u001b[0m \u001b[1;34m'fc'\u001b[0m\u001b[1;33m:\u001b[0m\u001b[1;33m\u001b[0m\u001b[1;33m\u001b[0m\u001b[0m\n\u001b[1;32m---> 92\u001b[1;33m         \u001b[1;32mreturn\u001b[0m \u001b[0mnp\u001b[0m\u001b[1;33m.\u001b[0m\u001b[0masarray\u001b[0m\u001b[1;33m(\u001b[0m\u001b[0mx\u001b[0m\u001b[1;33m,\u001b[0m \u001b[0mnp\u001b[0m\u001b[1;33m.\u001b[0m\u001b[0mfloat64\u001b[0m\u001b[1;33m)\u001b[0m\u001b[1;33m\u001b[0m\u001b[1;33m\u001b[0m\u001b[0m\n\u001b[0m\u001b[0;32m     93\u001b[0m \u001b[1;33m\u001b[0m\u001b[0m\n\u001b[0;32m     94\u001b[0m     \u001b[1;31m# Always align input\u001b[0m\u001b[1;33m\u001b[0m\u001b[1;33m\u001b[0m\u001b[1;33m\u001b[0m\u001b[0m\n",
      "\u001b[1;32m~\\Anaconda3\\lib\\site-packages\\numpy\\core\\_asarray.py\u001b[0m in \u001b[0;36masarray\u001b[1;34m(a, dtype, order)\u001b[0m\n\u001b[0;32m     83\u001b[0m \u001b[1;33m\u001b[0m\u001b[0m\n\u001b[0;32m     84\u001b[0m     \"\"\"\n\u001b[1;32m---> 85\u001b[1;33m     \u001b[1;32mreturn\u001b[0m \u001b[0marray\u001b[0m\u001b[1;33m(\u001b[0m\u001b[0ma\u001b[0m\u001b[1;33m,\u001b[0m \u001b[0mdtype\u001b[0m\u001b[1;33m,\u001b[0m \u001b[0mcopy\u001b[0m\u001b[1;33m=\u001b[0m\u001b[1;32mFalse\u001b[0m\u001b[1;33m,\u001b[0m \u001b[0morder\u001b[0m\u001b[1;33m=\u001b[0m\u001b[0morder\u001b[0m\u001b[1;33m)\u001b[0m\u001b[1;33m\u001b[0m\u001b[1;33m\u001b[0m\u001b[0m\n\u001b[0m\u001b[0;32m     86\u001b[0m \u001b[1;33m\u001b[0m\u001b[0m\n\u001b[0;32m     87\u001b[0m \u001b[1;33m\u001b[0m\u001b[0m\n",
      "\u001b[1;31mValueError\u001b[0m: could not convert string to float: 'STL Domae4 M1 Laser Humidity'"
     ]
    }
   ],
   "source": [
    "import numpy as np\n",
    "import matplotlib.pyplot as plt\n",
    "from scipy.fftpack import fft, ifft\n",
    "import pandas as pd\n",
    "\n",
    "# Import csv file\n",
    "#df = pd.read_csv('Insight Data 20200128_132638_data_train.csv', index_col=['DateTime'], parse_dates=['DateTime'])\n",
    "df = pd.read_csv('Insight Data 20200128_132638_data_train.csv', index_col=['DateTime'], parse_dates=['DateTime'])\n",
    "print(df.head())\n",
    "\n",
    "#plot data\n",
    "plt.figure(figsize=(12,4))\n",
    "df.plot(linestyle = '', marker = '*', color='b')\n",
    "plt.savefig('Insight Data 20200128_132638_data_train.jpg')\n",
    "plt.show()\n",
    "\n",
    "#FFT\n",
    "#number of sample points\n",
    "N = 407\n",
    "#frequency of signal (in days)\n",
    "T = 1\n",
    "#create x-axis for time length of signal\n",
    "x = np.linspace(0, N*T, N)\n",
    "#create array that corresponds to values in signal\n",
    "y = df\n",
    "#perform FFT on signal\n",
    "yf = fft(y)\n",
    "#create new x-axis: frequency from signal\n",
    "xf = np.linspace(0.0, 1.0/(2.0*T), N//2)\n",
    "#plot results\n",
    "plt.plot(xf, yf[0:N//2], label = 'signal')\n",
    "plt.grid()\n",
    "plt.xlabel('Frequency (days)')\n",
    "plt.ylabel(r'Spectral Amplitude')\n",
    "plt.legend(loc=1)\n",
    "plt.savefig('Insight Data 20200128_132638_data_train_fft_firstresult.jpg')\n",
    "plt.show()"
   ]
  },
  {
   "cell_type": "code",
   "execution_count": null,
   "metadata": {},
   "outputs": [],
   "source": []
  }
 ],
 "metadata": {
  "kernelspec": {
   "display_name": "Python 3",
   "language": "python",
   "name": "python3"
  },
  "language_info": {
   "codemirror_mode": {
    "name": "ipython",
    "version": 3
   },
   "file_extension": ".py",
   "mimetype": "text/x-python",
   "name": "python",
   "nbconvert_exporter": "python",
   "pygments_lexer": "ipython3",
   "version": "3.7.6"
  }
 },
 "nbformat": 4,
 "nbformat_minor": 4
}
